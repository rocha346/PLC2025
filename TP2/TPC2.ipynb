{
 "cells": [
  {
   "cell_type": "code",
   "execution_count": null,
   "id": "5918da3c",
   "metadata": {},
   "outputs": [],
   "source": [
    "import re"
   ]
  },
  {
   "cell_type": "markdown",
   "id": "b969dcfd",
   "metadata": {},
   "source": [
    "Cabeçalhos: linhas iniciadas por \"# texto\", ou \"## texto\" ou \"### texto\"\n",
    "\n",
    "In: # Exemplo\n",
    "\n",
    "Out: <h1>Exemplo</h1>\n"
   ]
  },
  {
   "cell_type": "code",
   "execution_count": 13,
   "id": "536dd9de",
   "metadata": {},
   "outputs": [
    {
     "name": "stdout",
     "output_type": "stream",
     "text": [
      "<h1>Exemplo</h1>\n",
      "<h1>Exemplo2</h1>\n",
      "<h1>Exemplo3</h1>\n"
     ]
    }
   ],
   "source": [
    "import re\n",
    "\n",
    "linha1=\"# Exemplo\"\n",
    "linha2=\"## Exemplo2\"\n",
    "linha3=\"### Exemplo3\"\n",
    "\n",
    "def html(linha):\n",
    "    if re.match(r\"# .*\",linha):\n",
    "        ex1=re.sub(r\"# (.*)\",r\"<h1>\\1</h1>\",linha)\n",
    "        return ex1\n",
    "    if re.match(r\"## .*\",linha):\n",
    "        ex2=re.sub(r\"## (.*)\",r\"<h1>\\1</h1>\",linha)\n",
    "        return ex2\n",
    "    if re.match(r\"### .*\",linha):\n",
    "        ex3=re.sub(r\"### (.*)\",r\"<h1>\\1</h1>\",linha)\n",
    "        return ex3\n",
    "\n",
    "print(html(linha1))\n",
    "print(html(linha2))\n",
    "print(html(linha3))"
   ]
  },
  {
   "cell_type": "markdown",
   "id": "33db724d",
   "metadata": {},
   "source": [
    "Bold: pedaços de texto entre \"**\":\n",
    "\n",
    "In: Este é um **exemplo** ...\n",
    "\n",
    "Out: Este é um <b>exemplo</b> ...\n"
   ]
  },
  {
   "cell_type": "code",
   "execution_count": null,
   "id": "9ebb18cc",
   "metadata": {},
   "outputs": [
    {
     "name": "stdout",
     "output_type": "stream",
     "text": [
      "<b>Exemplo</b>\n"
     ]
    }
   ],
   "source": [
    "import re\n",
    "linha1=\"**Exemplo**\"\n",
    "\n",
    "def html(linha):\n",
    "    if re.match(r\"\\*\\*(.*)\\*\\*\",linha):\n",
    "        ex1=re.sub(r\"\\*\\*(.*)\\*\\*\",r\"<b>\\1</b>\",linha)\n",
    "        return ex1\n",
    "    \n",
    "print(html(linha1))\n"
   ]
  },
  {
   "cell_type": "markdown",
   "id": "5f6c3749",
   "metadata": {},
   "source": [
    "Itálico: pedaços de texto entre \"*\":\n",
    "\n",
    "In: Este é um *exemplo* ...\n",
    "\n",
    "Out: Este é um <i>exemplo</i> ..."
   ]
  },
  {
   "cell_type": "code",
   "execution_count": 25,
   "id": "96c060ba",
   "metadata": {},
   "outputs": [
    {
     "name": "stdout",
     "output_type": "stream",
     "text": [
      "<i>Exemplo</i>\n"
     ]
    }
   ],
   "source": [
    "import re\n",
    "linha1=\"*Exemplo*\"\n",
    "\n",
    "def html(linha):\n",
    "    if re.match(r\"\\*(.*)\\*\",linha):\n",
    "        ex1=re.sub(r\"\\*(.*)\\*\",r\"<i>\\1</i>\",linha)\n",
    "        return ex1\n",
    "    \n",
    "print(html(linha1))"
   ]
  },
  {
   "cell_type": "markdown",
   "id": "d05e0684",
   "metadata": {},
   "source": [
    "Lista numerada:\n",
    "\n",
    "In:\n",
    "\n",
    "1. Primeiro item\n",
    "2. Segundo item\n",
    "3. Terceiro item\n",
    "\n",
    "Out:\n",
    "\n",
    "<ol>\n",
    "<li>Primeiro item</li>\n",
    "<li>Segundo item</li>\n",
    "<li>Terceiro item</li>\n",
    "</ol>"
   ]
  },
  {
   "cell_type": "code",
   "execution_count": 30,
   "id": "f7d2936e",
   "metadata": {},
   "outputs": [
    {
     "name": "stdout",
     "output_type": "stream",
     "text": [
      "<ol>\n",
      "<li>Primeiro item</li>\n",
      "<li>Segundo item</li>\n",
      "<li>Terceiro item</li>\n",
      "</ol>\n"
     ]
    }
   ],
   "source": [
    "import re\n",
    "linha1 = \"\"\"1. Primeiro item\n",
    "2. Segundo item\n",
    "3. Terceiro item\"\"\"\n",
    "\n",
    "def html(linha):\n",
    "    linhas=linha1.splitlines()\n",
    "    hl=[]\n",
    "    for linha in linhas:\n",
    "        i=re.match(r\"\\d\\.\\s(.*)\",linha)\n",
    "        if i:\n",
    "            hl.append(f\"<li>{i.group(1)}</li>\")\n",
    "    return \"<ol>\\n\"+\"\\n\".join(hl)+\"\\n\"\"</ol>\"\n",
    "\n",
    "print (html(linha1))\n",
    "\n",
    "\n"
   ]
  },
  {
   "cell_type": "markdown",
   "id": "467e6ecf",
   "metadata": {},
   "source": [
    "Link: [texto](endereço URL)\n",
    "\n",
    "In: Como pode ser consultado em [página da UC](http://www.uc.pt)\n",
    "\n",
    "Out: Como pode ser consultado em <a href=\"http://www.uc.pt\">página da UC</a>"
   ]
  },
  {
   "cell_type": "code",
   "execution_count": 37,
   "id": "5312943a",
   "metadata": {},
   "outputs": [
    {
     "name": "stdout",
     "output_type": "stream",
     "text": [
      "Como pode ser consultado em <a href=\"página da UC\">[página da UC]</a>\n"
     ]
    }
   ],
   "source": [
    "import re\n",
    "\n",
    "linha1=\"Como pode ser consultado em [página da UC](http://www.uc.pt)\"\n",
    "\n",
    "def html(linha):\n",
    "    if re.match(r\"(.*)\\[(.*)\\]\\((.*)\\)\",linha):\n",
    "        ex1=re.sub(r\"(.*)(\\[(.*)\\])(\\((.*)\\))\",r'\\1<a href=\"\\3\">\\2</a>',linha)\n",
    "        return ex1\n",
    "    \n",
    "print(html(linha1))\n",
    "\n"
   ]
  },
  {
   "cell_type": "markdown",
   "id": "c3a2bff7",
   "metadata": {},
   "source": [
    "Imagem: ![texto alternativo](path para a imagem)\n",
    "\n",
    "In: Como se vê na imagem seguinte: ![imagem dum coelho](http://www.coellho.com) ...\n",
    "\n",
    "Out: Como se vê na imagem seguinte: <img src=\"http://www.coellho.com\" alt=\"imagem dum coelho\"/> ..."
   ]
  },
  {
   "cell_type": "code",
   "execution_count": 39,
   "id": "4986adee",
   "metadata": {},
   "outputs": [
    {
     "name": "stdout",
     "output_type": "stream",
     "text": [
      "Como se vê na imagem seguinte: <img src=\"imagem dum coelho\" alt=\"[imagem dum coelho]\"/> ...\n"
     ]
    }
   ],
   "source": [
    "import re\n",
    "\n",
    "linha1=\"Como se vê na imagem seguinte: ![imagem dum coelho](http://www.coelho.com) ...\"\n",
    "\n",
    "def html(linha):\n",
    "    if re.match(r\"(.*)\\!\\[(.*)\\]\\((.*)\\)\",linha):\n",
    "        ex1=re.sub(r\"(.*)\\!(\\[(.*)\\])(\\((.*)\\))\",r'\\1<img src=\"\\3\" alt=\"\\2\"/>',linha)\n",
    "        return ex1\n",
    "print(html(linha1))"
   ]
  }
 ],
 "metadata": {
  "kernelspec": {
   "display_name": "Python 3",
   "language": "python",
   "name": "python3"
  },
  "language_info": {
   "codemirror_mode": {
    "name": "ipython",
    "version": 3
   },
   "file_extension": ".py",
   "mimetype": "text/x-python",
   "name": "python",
   "nbconvert_exporter": "python",
   "pygments_lexer": "ipython3",
   "version": "3.12.3"
  }
 },
 "nbformat": 4,
 "nbformat_minor": 5
}
