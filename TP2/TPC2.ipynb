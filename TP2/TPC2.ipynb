{
 "cells": [
  {
   "cell_type": "code",
   "execution_count": null,
   "id": "5918da3c",
   "metadata": {},
   "outputs": [],
   "source": [
    "import re"
   ]
  },
  {
   "cell_type": "markdown",
   "id": "b969dcfd",
   "metadata": {},
   "source": [
    "Cabeçalhos: linhas iniciadas por \"# texto\", ou \"## texto\" ou \"### texto\"\n",
    "\n",
    "In: # Exemplo\n",
    "\n",
    "Out: <h1>Exemplo</h1>\n"
   ]
  },
  {
   "cell_type": "code",
   "execution_count": null,
   "id": "536dd9de",
   "metadata": {},
   "outputs": [
    {
     "ename": "NameError",
     "evalue": "name 're' is not defined",
     "output_type": "error",
     "traceback": [
      "\u001b[0;31m---------------------------------------------------------------------------\u001b[0m",
      "\u001b[0;31mNameError\u001b[0m                                 Traceback (most recent call last)",
      "Cell \u001b[0;32mIn[1], line 16\u001b[0m\n\u001b[1;32m     13\u001b[0m         ex3\u001b[38;5;241m=\u001b[39mre\u001b[38;5;241m.\u001b[39msub(\u001b[38;5;124mr\u001b[39m\u001b[38;5;124m\"\u001b[39m\u001b[38;5;124m###(.*)\u001b[39m\u001b[38;5;124m\"\u001b[39m,\u001b[38;5;124m\"\u001b[39m\u001b[38;5;124m<h1>\u001b[39m\u001b[38;5;130;01m\\1\u001b[39;00m\u001b[38;5;124m</h1>\u001b[39m\u001b[38;5;124m\"\u001b[39m,linha)\n\u001b[1;32m     14\u001b[0m         \u001b[38;5;28;01mreturn\u001b[39;00m ex3\n\u001b[0;32m---> 16\u001b[0m \u001b[38;5;28mprint\u001b[39m(\u001b[43mhtml\u001b[49m\u001b[43m(\u001b[49m\u001b[43mlinha1\u001b[49m\u001b[43m)\u001b[49m)\n\u001b[1;32m     17\u001b[0m \u001b[38;5;28mprint\u001b[39m(html(linha2))\n\u001b[1;32m     18\u001b[0m \u001b[38;5;28mprint\u001b[39m(html(linha3))\n",
      "Cell \u001b[0;32mIn[1], line 6\u001b[0m, in \u001b[0;36mhtml\u001b[0;34m(linha)\u001b[0m\n\u001b[1;32m      5\u001b[0m \u001b[38;5;28;01mdef\u001b[39;00m \u001b[38;5;21mhtml\u001b[39m(linha):\n\u001b[0;32m----> 6\u001b[0m     \u001b[38;5;28;01mif\u001b[39;00m \u001b[43mre\u001b[49m\u001b[38;5;241m.\u001b[39mmatch(\u001b[38;5;124mr\u001b[39m\u001b[38;5;124m\"\u001b[39m\u001b[38;5;124m# (.*)\u001b[39m\u001b[38;5;124m\"\u001b[39m,linha):\n\u001b[1;32m      7\u001b[0m         ex1\u001b[38;5;241m=\u001b[39mre\u001b[38;5;241m.\u001b[39msub(\u001b[38;5;124mr\u001b[39m\u001b[38;5;124m\"\u001b[39m\u001b[38;5;124m#(.*)\u001b[39m\u001b[38;5;124m\"\u001b[39m,\u001b[38;5;124m\"\u001b[39m\u001b[38;5;124m<h1>\u001b[39m\u001b[38;5;130;01m\\1\u001b[39;00m\u001b[38;5;124m</h1>\u001b[39m\u001b[38;5;124m\"\u001b[39m,linha)\n\u001b[1;32m      8\u001b[0m         \u001b[38;5;28;01mreturn\u001b[39;00m ex1\n",
      "\u001b[0;31mNameError\u001b[0m: name 're' is not defined"
     ]
    }
   ],
   "source": [
    "linha1=\"# Exemplo\"\n",
    "linha2=\"## Exemplo2\"\n",
    "linha3=\"### Exemplo3\"\n",
    "\n",
    "def html(linha):\n",
    "    if re.match(r\"# .*\",linha):\n",
    "        ex1=re.sub(r\"#(.*)\",\"<h1>\\1</h1>\",linha)\n",
    "        return ex1\n",
    "    if re.match(r\"## .*\",linha):\n",
    "        ex2=re.sub(r\"##(.*)\",\"<h1>\\1</h1>\",linha)\n",
    "        return ex2\n",
    "    if re.match(r\"### .*\",linha):\n",
    "        ex3=re.sub(r\"###(.*)\",\"<h1>\\1</h1>\",linha)\n",
    "        return ex3\n",
    "\n",
    "print(html(linha1))\n",
    "print(html(linha2))\n",
    "print(html(linha3))"
   ]
  }
 ],
 "metadata": {
  "kernelspec": {
   "display_name": "Python 3",
   "language": "python",
   "name": "python3"
  },
  "language_info": {
   "codemirror_mode": {
    "name": "ipython",
    "version": 3
   },
   "file_extension": ".py",
   "mimetype": "text/x-python",
   "name": "python",
   "nbconvert_exporter": "python",
   "pygments_lexer": "ipython3",
   "version": "3.12.3"
  }
 },
 "nbformat": 4,
 "nbformat_minor": 5
}
