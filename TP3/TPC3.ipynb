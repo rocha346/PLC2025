{
 "cells": [
  {
   "cell_type": "markdown",
   "id": "a3653f5b",
   "metadata": {},
   "source": [
    "#Exemplo de Query\n",
    "# DBPedia: obras de Chuck Berry\n",
    "\n",
    "select ?nome ?desc where { \n",
    "    ?s a dbo:MusicalArtist. \n",
    "    ?s foaf:name \"Chuck Berry\"@en . \n",
    "    ?w dbo:artist ?s. \n",
    "    ?w foaf:name ?nome. \n",
    "    ?w dbo:abstract ?desc \n",
    "} LIMIT 1000"
   ]
  },
  {
   "cell_type": "code",
   "execution_count": 17,
   "id": "62ea0f4f",
   "metadata": {},
   "outputs": [
    {
     "ename": "TypeError",
     "evalue": "expected string or bytes-like object, got 'int'",
     "output_type": "error",
     "traceback": [
      "\u001b[0;31m---------------------------------------------------------------------------\u001b[0m",
      "\u001b[0;31mTypeError\u001b[0m                                 Traceback (most recent call last)",
      "Cell \u001b[0;32mIn[17], line 55\u001b[0m\n\u001b[1;32m     46\u001b[0m \u001b[38;5;66;03m# Query de teste\u001b[39;00m\n\u001b[1;32m     47\u001b[0m teste\u001b[38;5;241m=\u001b[39m \u001b[38;5;124m\"\"\"\u001b[39m\u001b[38;5;124mSELECT ?nome ?desc WHERE\u001b[39m\u001b[38;5;124m{\u001b[39m\u001b[38;5;124m \u001b[39m\n\u001b[1;32m     48\u001b[0m \u001b[38;5;124m?s foaf:name \u001b[39m\u001b[38;5;124m\"\u001b[39m\u001b[38;5;124mChuck Berry\u001b[39m\u001b[38;5;124m\"\u001b[39m\u001b[38;5;124m@en . \u001b[39m\n\u001b[1;32m     49\u001b[0m \u001b[38;5;124m?w dbo:artist ?s. \u001b[39m\n\u001b[0;32m   (...)\u001b[0m\n\u001b[1;32m     52\u001b[0m \u001b[38;5;124m} LIMIT 1000\u001b[39m\n\u001b[1;32m     53\u001b[0m \u001b[38;5;124m\"\"\"\u001b[39m\n\u001b[0;32m---> 55\u001b[0m \u001b[43mQuery\u001b[49m\u001b[43m(\u001b[49m\u001b[43mteste\u001b[49m\u001b[43m)\u001b[49m\n",
      "Cell \u001b[0;32mIn[17], line 27\u001b[0m, in \u001b[0;36mQuery\u001b[0;34m(linha)\u001b[0m\n\u001b[1;32m     24\u001b[0m linha\u001b[38;5;241m=\u001b[39m\u001b[38;5;241m1\u001b[39m \n\u001b[1;32m     26\u001b[0m tokenreg \u001b[38;5;241m=\u001b[39m \u001b[38;5;124m'\u001b[39m\u001b[38;5;124m|\u001b[39m\u001b[38;5;124m'\u001b[39m\u001b[38;5;241m.\u001b[39mjoin(\u001b[38;5;124mf\u001b[39m\u001b[38;5;124m'\u001b[39m\u001b[38;5;124m(?P<\u001b[39m\u001b[38;5;132;01m{\u001b[39;00mname\u001b[38;5;132;01m}\u001b[39;00m\u001b[38;5;124m>\u001b[39m\u001b[38;5;132;01m{\u001b[39;00mpattern\u001b[38;5;132;01m}\u001b[39;00m\u001b[38;5;124m)\u001b[39m\u001b[38;5;124m'\u001b[39m\u001b[38;5;28;01mfor\u001b[39;00m name , pattern \u001b[38;5;129;01min\u001b[39;00m tokens) \n\u001b[0;32m---> 27\u001b[0m val\u001b[38;5;241m=\u001b[39m\u001b[43mre\u001b[49m\u001b[38;5;241;43m.\u001b[39;49m\u001b[43mfinditer\u001b[49m\u001b[43m(\u001b[49m\u001b[43mtokenreg\u001b[49m\u001b[43m,\u001b[49m\u001b[43mlinha\u001b[49m\u001b[43m)\u001b[49m\n\u001b[1;32m     29\u001b[0m \u001b[38;5;28;01mfor\u001b[39;00m v \u001b[38;5;129;01min\u001b[39;00m val:\n\u001b[1;32m     30\u001b[0m     dic \u001b[38;5;241m=\u001b[39m v\u001b[38;5;241m.\u001b[39mgroupdict()\n",
      "File \u001b[0;32m/usr/lib/python3.12/re/__init__.py:224\u001b[0m, in \u001b[0;36mfinditer\u001b[0;34m(pattern, string, flags)\u001b[0m\n\u001b[1;32m    219\u001b[0m \u001b[38;5;28;01mdef\u001b[39;00m \u001b[38;5;21mfinditer\u001b[39m(pattern, string, flags\u001b[38;5;241m=\u001b[39m\u001b[38;5;241m0\u001b[39m):\n\u001b[1;32m    220\u001b[0m \u001b[38;5;250m    \u001b[39m\u001b[38;5;124;03m\"\"\"Return an iterator over all non-overlapping matches in the\u001b[39;00m\n\u001b[1;32m    221\u001b[0m \u001b[38;5;124;03m    string.  For each match, the iterator returns a Match object.\u001b[39;00m\n\u001b[1;32m    222\u001b[0m \n\u001b[1;32m    223\u001b[0m \u001b[38;5;124;03m    Empty matches are included in the result.\"\"\"\u001b[39;00m\n\u001b[0;32m--> 224\u001b[0m     \u001b[38;5;28;01mreturn\u001b[39;00m \u001b[43m_compile\u001b[49m\u001b[43m(\u001b[49m\u001b[43mpattern\u001b[49m\u001b[43m,\u001b[49m\u001b[43m \u001b[49m\u001b[43mflags\u001b[49m\u001b[43m)\u001b[49m\u001b[38;5;241;43m.\u001b[39;49m\u001b[43mfinditer\u001b[49m\u001b[43m(\u001b[49m\u001b[43mstring\u001b[49m\u001b[43m)\u001b[49m\n",
      "\u001b[0;31mTypeError\u001b[0m: expected string or bytes-like object, got 'int'"
     ]
    }
   ],
   "source": [
    "import re\n",
    "\n",
    "def Query(linha):\n",
    "    # Definição de tokens\n",
    "    tokens = [\n",
    "    ('NEWLINE', r'\\n'),\n",
    "    ('SKIP', r'[ \\t]+'),\n",
    "    ('SELECT', r'SELECT\\b'),\n",
    "    ('WHERE', r'WHERE\\b'),\n",
    "    ('LIMIT', r'LIMIT\\b'),\n",
    "    ('OPTIONAL', r'OPTIONAL\\b'),\n",
    "    ('FILTER', r'FILTER\\b'),\n",
    "    ('VAR', r'\\?[a-zA-Z_]\\w*'),\n",
    "    ('QNAME', r'[a-zA-Z_]\\w*:[a-zA-Z_]\\w*'),  \n",
    "    ('IDENT', r':[a-zA-Z_]\\w*'),\n",
    "    ('STRING', r'\"[^\"]*\"(@[a-zA-Z]+)?'),\n",
    "    ('INT', r'\\d+'),\n",
    "    ('OP', r'[=!<>]+'),\n",
    "    ('PUNCT', r'[{}.;,]'),\n",
    "    ('ERROR', r'.')\n",
    "    ]\n",
    "\n",
    "    reconhecidos=[]\n",
    "    linha=1 \n",
    "\n",
    "    tokenreg = '|'.join(f'(?P<{name}>{pattern})'for name , pattern in tokens) \n",
    "    val=re.finditer(tokenreg,linha)\n",
    "\n",
    "    for v in val:\n",
    "        dic = v.groupdict()\n",
    "        type = None\n",
    "        valor = v.group()\n",
    "        for key in dic:\n",
    "            if dic[key]:\n",
    "                tipo=key\n",
    "                break\n",
    "        if tipo=='NEWLINE':\n",
    "            linha+=1\n",
    "            reconhecidos.append((tipo, valor, linha, v.span()))\n",
    "        elif tipo != 'SKIP':\n",
    "            reconhecidos.append((tipo, valor, linha, v.span()))\n",
    "            \n",
    "    return reconhecidos\n",
    "    \n",
    "\n",
    "# Query de teste\n",
    "teste= \"\"\"SELECT ?nome ?desc WHERE{ \n",
    "?s foaf:name \"Chuck Berry\"@en . \n",
    "?w dbo:artist ?s. \n",
    "?w foaf:name ?nome. \n",
    "?w dbo:abstract ?desc \n",
    "} LIMIT 1000\n",
    "\"\"\"\n",
    "\n",
    "Query(teste)"
   ]
  }
 ],
 "metadata": {
  "kernelspec": {
   "display_name": "Python 3",
   "language": "python",
   "name": "python3"
  },
  "language_info": {
   "codemirror_mode": {
    "name": "ipython",
    "version": 3
   },
   "file_extension": ".py",
   "mimetype": "text/x-python",
   "name": "python",
   "nbconvert_exporter": "python",
   "pygments_lexer": "ipython3",
   "version": "3.12.3"
  }
 },
 "nbformat": 4,
 "nbformat_minor": 5
}
